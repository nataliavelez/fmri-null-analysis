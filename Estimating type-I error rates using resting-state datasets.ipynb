{
 "cells": [
  {
   "cell_type": "markdown",
   "metadata": {},
   "source": [
    "# Estimating type-I error rates using resting state datasets\n",
    "Natalia Vélez, Psych 248 final project\n",
    "\n",
    "## Introduction\n",
    "\n",
    "The present notebook describes a method for detecting bias in analysis streams by analyzing resting state data. In general, analysis of fMRI data is highly idiosyncratic—preferred software packages, analytic steps, and procedures vary from lab to lab, and pipelines are typically stitched together using a combination of standardized software packages and in-house scripts. At each step of designing a task and building an analysis pipeline, the experimenter is faced with design decisions that may affect the validity of the final result. One way to address these questions is to explore the literature. A typical fMRI statistics paper might address the impact of a small set of parameters (such as study design, model structure, choice of software package, multiple comparisons correction method) on a small set of performance metrics (such as type-I and type-II error rates). Each paper, then, informs a small piece of the pipeline as a whole.\n",
    "\n",
    "The ultimate goal of this project is to build a scaffold by which researchers can test and validate their own pipelines. As a starting point for this project, we were faced with two key  questions about its scope and design: (1) what performance metrics to use to evaluate a pipeline, and (2) what data to use to test the pipeline.\n",
    "\n",
    "First, there are many possible criteria by which a given pipeline might be considered 'better' or 'valid' (for a review, see [Strother et al., 2006](https://www.researchgate.net/profile/Stephen_Strother/publication/238722988_Review_of_Preprocessing_Steps_for_BOLD_fMRI/links/56b2ee8a08ae56d7b06cdba4.pdf)). Here, we've focused on estimating false positives: that is, how often our methods falsely reject a true null hypothesis. \n",
    "\n",
    "This means that, to answer our second question, we needed a dataset where there are truly no task-related effects to be found. There are many ways to approach this problem. For example, some papers test the validity of statistical methods using simulated null data ([Welvaert et al., 2014](http://journals.plos.org/plosone/article?id=10.1371/journal.pone.0101953)). This approach has several possible benefits—for one, it gets around the problem of storing and processing a large fMRI dataset, making it easier for people to run on their own systems—but it is difficult to simulate the noise structure of real neuroimaging data. Alternatively, thanks to a recent push towards data sharing in neuroimaging research [(Poldrack & Gorgolewski, 2014)](http://www.nature.com/neuro/journal/v17/n11/abs/nn.3818.html), it is possible to evaluate analysis pipelines using real resting state data. This option is more computationally expensive, but provides a more valid null model. The present work uses a publicly available resting state dataset [(Shehzad et al., 2009)](https://academic.oup.com/cercor/article/19/10/2209/599780/The-Resting-Brain-Unconstrained-yet-Reliable) as 'null' data by which to test our statistical methods. \n",
    "\n",
    "As a proof of concept of this method, this notebook is an attempt to replicate the analyses in \n",
    "[Mumford et al. (2014)](http://www.sciencedirect.com/science/article/pii/S105381191400768X). Mumford et al. (2014) estimated the false positive rate in multi-voxel pattern analyses a function of the model estimation method ([beta-series regression](http://www.sciencedirect.com/science/article/pii/S105381190400360X) or [least squares single](http://www.sciencedirect.com/science/article/pii/S1053811911010081)) and task design (trial order, ISI length). The code below is written using [NiPy](http://nipy.org/), an ecosystem of open source tools for the analysis of fMRI data using Python.\n",
    "\n",
    "## Step 1: Load and explore dataset\n",
    "\n",
    "First, we'll load our dependencies and load our dataset. (If this is your first time running this code, this may take a while.)\n",
    "\n",
    "We're using the NYU Resting State database [(Shehzad et al., 2009)](https://academic.oup.com/cercor/article/19/10/2209/599780/The-Resting-Brain-Unconstrained-yet-Reliable), one of many open datasets available through [Nilearn](http://http://nilearn.github.io/). \n",
    "\n",
    "[From the Nilearn documentation:](http://nilearn.github.io/modules/generated/nilearn.datasets.fetch_nyu_rest.html#nilearn.datasets.fetch_nyu_rest) This dataset is composed of data from 26 subjects (11 males), taken over 3 sessions each. Each unique session includes:\n",
    "\n",
    "* Anatomicals: anonymized and skullstripped data\n",
    "* Functional: 197 continuous EPI functional volumes per session\n",
    "    * 39 slices\n",
    "    * Matrix: 64 x 64\n",
    "    * Acquisition voxel size: 3 x 3 x 3 mm\n",
    "    * TR: 2000 ms\n",
    "    \n",
    "The original purpose of this dataset was to measure the test-retest reliability of resting state data. Here, we're using this dataset as 'null data'. That means that, in the cells below, we'll (1) load the data, (2) analyze it using a user-provided Nipype pipeline and model, and (3) estimate the type-I error rate. Any statistically significant effects found using our model are spurious."
   ]
  },
  {
   "cell_type": "code",
   "execution_count": 32,
   "metadata": {
    "collapsed": false
   },
   "outputs": [],
   "source": [
    "% matplotlib inline\n",
    "\n",
    "# General tools\n",
    "import os\n",
    "from os.path import join as opj\n",
    "import numpy as np\n",
    "import glob\n",
    "import json\n",
    "\n",
    "# Nipy tools\n",
    "from nilearn import datasets\n",
    "from nipype import config, logging\n",
    "from nipype.interfaces import spm, fsl\n",
    "import nipype.interfaces.io as nio           # Data i/o\n",
    "import nipype.interfaces.utility as util     # utility\n",
    "import nipype.pipeline.engine as pe          # pypeline engine\n",
    "import nipype.algorithms.misc as misc\n",
    "import nipype.algorithms.rapidart as ra      # artifact detection\n",
    "import nipype.algorithms.modelgen as model   # model specification\n",
    "import nipype.interfaces.matlab as mlab\n",
    "\n",
    "# MVPA\n",
    "from nilearn.input_data import NiftiMasker\n",
    "from sklearn.svm import SVC\n",
    "from sklearn.cross_validation import StratifiedKFold, cross_val_score\n",
    "\n",
    "# Visualization\n",
    "import pandas as pd\n",
    "import seaborn as sns\n",
    "\n",
    "# Configuration\n",
    "config.enable_debug_mode()\n",
    "config.set('logging', 'log_to_file', 'true')\n",
    "logging.update_logging(config)\n",
    "mlab.MatlabCommand.set_default_matlab_cmd('/Applications/MATLAB_R2012b.app/bin/matlab -nodesktop -nosplash')\n",
    "fsl.FSLCommand.set_default_output_type('NIFTI')\n",
    "\n",
    "# Load data\n",
    "# NB: Data have been downloaded and unzipped outside of the script\n",
    "project_dir = '/Users/sll-members/fmri/Psych_248'\n",
    "dataset_dir = opj(project_dir, 'data')"
   ]
  },
  {
   "cell_type": "markdown",
   "metadata": {},
   "source": [
    "## Step 2: Preprocessing and first-level modeling pipeline\n",
    "\n",
    "Now that we have a 'null' dataset to play with, the code chunk below defines the Nipype pipeline. As a proof of concept of this method, we'll be changing aspects of the study design (stimulus ordering and timing, etc.), and estimating the type I error rate for each experiment design, similar to the procedure descripted in [Mumford et al. (2014)](http://www.sciencedirect.com/science/article/pii/S105381191400768X).\n",
    "\n",
    "For our preprocessing and modeling, we'll be using the [SPM, FSL example pipeline](http://nipy.org/nipype/0.10.0/users/examples/fmri_spm.html) provided with Nipype. This will allow us to focus on more complex aspects of the pipeline architecture. The code below describes the preprocessing steps."
   ]
  },
  {
   "cell_type": "code",
   "execution_count": 4,
   "metadata": {
    "collapsed": false
   },
   "outputs": [],
   "source": [
    "subject_ids = [d for d in os.listdir(opj(project_dir, 'data', 'nyu_rest', 'session1'))]\n",
    "\n",
    "# Create datasource\n",
    "infosource = pe.Node(interface = util.IdentityInterface(fields = ['subject_id']),\n",
    "                     name = 'infosource')\n",
    "infosource.iterables = ('subject_id', subject_ids)\n",
    "\n",
    "datasource = pe.Node(interface = nio.DataGrabber(infields=['subject_id'],\n",
    "                                                 outfields=['func', 'struct', 'mask']),\n",
    "                     name = 'datasource')\n",
    "datasource.inputs.base_directory = opj(project_dir, 'data', 'nyu_rest')\n",
    "datasource.inputs.template = '*'\n",
    "datasource.inputs.sort_filelist = True\n",
    "datasource.inputs.field_template = dict(func='session1/%s/func/lfo.nii',\n",
    "                                        struct='session1/%s/anat/mprage_skullstripped.nii',\n",
    "                                        mask='session1/%s/anat/skullstripped_mask.nii')\n",
    "datasource.inputs.template_args = dict(func=[['subject_id']],\n",
    "                                       struct=[['subject_id']],\n",
    "                                       mask=[['subject_id']])\n",
    "\n",
    "# Motion correction\n",
    "realign = pe.Node(interface=spm.Realign(), name=\"realign\")\n",
    "realign.inputs.register_to_mean = True\n",
    "\n",
    "# Artifact detection\n",
    "art = pe.Node(interface=ra.ArtifactDetect(), name=\"art\")\n",
    "art.inputs.use_differences      = [True, False]\n",
    "art.inputs.use_norm             = True\n",
    "art.inputs.norm_threshold       = 1\n",
    "art.inputs.zintensity_threshold = 3\n",
    "art.inputs.mask_type            = 'spm_global'\n",
    "art.inputs.parameter_source     = 'SPM' \n",
    "\n",
    "# Skull-strip\n",
    "# (NB: Our dataset comes with skull-stripped anatomicals, so I've set -f 0. This step basically\n",
    "# just creates a binary mask.)\n",
    "skullstrip = pe.Node(interface=fsl.BET(), name=\"skullstrip\")\n",
    "skullstrip.inputs.frac = 0 \n",
    "skullstrip.inputs.mask = True\n",
    "\n",
    "# Rigid body registration of functional data to structural data\n",
    "coregister = pe.Node(interface=spm.Coregister(), name=\"coregister\")\n",
    "coregister.inputs.jobtype = 'estimate'\n",
    "\n",
    "# Normalization\n",
    "normalize = pe.Node(interface=spm.Normalize(), name = \"normalize\")\n",
    "normalize.inputs.template = opj(project_dir, 'T1.nii')\n",
    "\n",
    "# Smoothing\n",
    "smooth = pe.Node(interface=spm.Smooth(), name = \"smooth\")"
   ]
  },
  {
   "cell_type": "markdown",
   "metadata": {},
   "source": [
    "Now that we have our preprocessing steps set up, we'll set up nodes for modeling with SPM:"
   ]
  },
  {
   "cell_type": "code",
   "execution_count": 5,
   "metadata": {
    "collapsed": true
   },
   "outputs": [],
   "source": [
    "# Model specification\n",
    "modelspec = pe.Node(interface=model.SpecifySPMModel(), name= \"modelspec\")\n",
    "modelspec.inputs.concatenate_runs        = False\n",
    "modelspec.inputs.input_units             = 'secs'\n",
    "modelspec.inputs.output_units            = 'secs'\n",
    "modelspec.inputs.time_repetition         = 2.\n",
    "modelspec.inputs.high_pass_filter_cutoff = 128\n",
    "\n",
    "# First-level modeling\n",
    "level1design = pe.Node(interface=spm.Level1Design(), name= \"level1design\")\n",
    "level1design.inputs.timing_units       = modelspec.inputs.output_units\n",
    "level1design.inputs.interscan_interval = modelspec.inputs.time_repetition\n",
    "level1design.inputs.bases              = {'hrf':{'derivs': [0,0]}}\n",
    "\n",
    "# Model estimation\n",
    "level1estimate = pe.Node(interface=spm.EstimateModel(), name=\"level1estimate\")\n",
    "level1estimate.inputs.estimation_method = {'Classical' : 1}\n",
    "\n",
    "# Contrast estimate\n",
    "contrastestimate = pe.Node(interface = spm.EstimateContrast(), name=\"contrastestimate\")\n",
    "contrastestimate.overwrite = True\n",
    "contrastestimate.config = {'execution': {'remove_unnecessary_outputs': True}}"
   ]
  },
  {
   "cell_type": "markdown",
   "metadata": {},
   "source": [
    "## Step 3: Simulate task data\n",
    "\n",
    "So far, this a pretty standard pipeline. But, unlike analysis of real data, we don't want to run each subject through this pipeline once—instead, we want to preprocess each participant's data once, but generate many possible models for them and run the model estimation for each randomly generated model. This means we'll need to add two things on top of the basic pipeline architecture:\n",
    "\n",
    "1. Create a method for generating random trial orders for each subject\n",
    "2. Create multiple trial orders per subject, for each permutation of parameters\n",
    "\n",
    "We'll tackle these problems using two abstractions unique to Nipype:\n",
    "\n",
    "First, we'll define a method for generating random trial orders using the `Function` interface ([documentation](http://nipype.readthedocs.io/en/latest/users/function_interface.html)). Essentially, `Function` allows any arbitrary Python code to be wrapped within a Nipype node. We're going to use this to run a custom function, `model_gen_fun`, within our workflow.\n",
    "\n",
    "Second, we'll use iterators ([documentation](http://nipype.readthedocs.io/en/latest/users/mapnode_and_iterables.html#iterables)) to vary aspects of the task design. Iterators create \"branches\" in our pipeline that run model generation and all downstream steps of our model estimation pipeline for each permutation of parameters. In this case, we're varying two parameters of the model: the way trials are ordered in our design (trial order), and the length of the interstimulus interval (ISI).\n",
    "\n",
    "For simplicity, we'll assume that our task has two conditions, a and b, that are modelled as impulses. These conditions are ordered in three different ways:\n",
    "\n",
    "* **Blocked:** All 'a' trials, followed by all 'b' trials (or vice versa)\n",
    "* **Alternating:** Alternating 'ababab...' or 'bababa...' for the whole run\n",
    "* **Random:** Randomly shuffled trial order\n",
    "\n",
    "For the interstimulus interval, following the approach in Mumford et al. (2014), ISIs are sampled from a range of 0 to 3s using a uniform distribution (NB: the original paper uses a truncated exponential distribution). The ISI range is shifted by adding a scalar value, k, to the ISIs: short ISIs range from 2s to 5s (k = 2), and longer ISIs range from 4s to 7s (k = 4). In the procedure below, k is specified as an iterator in our pipeline. Because the total length of our functional run is 394 seconds long, we're limited in the number of trials that we can include in each run The model includes 54 trials of each type (108 trials total) for shorter ISIs, and 34 trials of each type (68 trials total) for longer ISIs.\n",
    "\n",
    "Third, we'll use iteration again to generate many different trial orders per subject for each permutation of parameters. Each trial order can be used in a different random group analysis; the ultimate goal of this part of the procedure is to aggregaite over group analysis to obtain an estimate of the false positive rate. For an accurate estimate of the false positive rate, we would ideally like to simulate a large number (hundreds or thousands) of group analyses. Currently, I don't have the computational resources to run large numbers of simulations—as an initial test of this method, I'll run a single simulation for easier running and debugging."
   ]
  },
  {
   "cell_type": "code",
   "execution_count": 6,
   "metadata": {
    "collapsed": false
   },
   "outputs": [],
   "source": [
    "def model_gen_fun(subject_id, order, isi_length, n_iter,\n",
    "                  tr = 2.0, n_frames = 197):\n",
    "    import math\n",
    "    import numpy as np\n",
    "    import random\n",
    "    from nipype.interfaces.base import Bunch\n",
    "    \n",
    "    # Helper function\n",
    "    flip = lambda: np.random.binomial(1, .5)\n",
    "    \n",
    "    # Initialize output\n",
    "    model = []\n",
    "    \n",
    "    # Parameter for generating onsets\n",
    "    isi_k = 2.0 if isi_length == 'short' else 4.0\n",
    "    n_trials = 54 if isi_length == 'short' else 34\n",
    "    \n",
    "    def rand_isis():\n",
    "        rand_isi = np.random.uniform(low = 0.0, high = 3.0,\n",
    "                                    size = n_trials*2) + isi_k\n",
    "\n",
    "        onsets = np.cumsum(rand_isi)\n",
    "\n",
    "        # Constrain onsets to stay within the length of the run\n",
    "        if onsets[-1] > tr*n_frames:\n",
    "            return rand_isis()\n",
    "        else:\n",
    "            return onsets\n",
    "\n",
    "    onsets = rand_isis()\n",
    "\n",
    "    # Get trial types\n",
    "    a = ['a' for _ in range(n_trials)]\n",
    "    b = ['b' for _ in range(n_trials)]\n",
    "    trial_types = a + b\n",
    "\n",
    "    if order == 'blocked':\n",
    "        trial_types = trial_types if flip() else trial_types[::-1]\n",
    "\n",
    "    elif order == 'alternating':\n",
    "        a_first = flip()\n",
    "\n",
    "        trial_types[::2] = a if a_first else b\n",
    "        trial_types[1::2] = b if a_first else a\n",
    "\n",
    "    elif order == 'random':\n",
    "        random.shuffle(trial_types)\n",
    "\n",
    "    # Specify model as bunch item\n",
    "    # NOTE: Each trial is modeled as a different regressor, to do a beta-series regression\n",
    "    label_info = zip(range(n_trials*2), trial_types)   \n",
    "    trial_labels = ['trial%03d_%s' % (t+1, trial) for t, trial in label_info]\n",
    "    split_onsets = [[o] for o in onsets]\n",
    "    \n",
    "    model = Bunch(conditions = trial_labels,\n",
    "                 onsets = split_onsets,\n",
    "                 durations = [[0] for _ in range(n_trials*2)])\n",
    "\n",
    "    # Specify contrasts\n",
    "    condition_vals = [1 if t == 'a' else -1 for t in trial_types]\n",
    "    contrasts = [['A > B', 'T', trial_labels, condition_vals]] \n",
    "            \n",
    "    return model, contrasts\n",
    "\n",
    "model_gen_interface = util.Function(input_names = ['subject_id', 'order', 'isi_length', 'n_iter',\n",
    "                                                   'tr', 'n_frames'],\n",
    "                                    output_names = ['model', 'contrasts'],\n",
    "                                    function = model_gen_fun)\n",
    "\n",
    "model_gen = pe.Node(name = 'model_gen', interface = model_gen_interface)\n",
    "model_gen.iterables = [('order', ['blocked', 'alternating', 'random']),\n",
    "                      ('isi_length', ['long']),\n",
    "                      ('n_iter', [1])]"
   ]
  },
  {
   "cell_type": "markdown",
   "metadata": {},
   "source": [
    "## Step 4: Run preprocessing and first-level modeling\n",
    "\n",
    "Now that we have a preprocessing and modeling pipeline, and a means of simulating task data for each subject over many iterations, the code chunk below puts our preprocessing and modeling pipeline together."
   ]
  },
  {
   "cell_type": "code",
   "execution_count": 7,
   "metadata": {
    "collapsed": false
   },
   "outputs": [],
   "source": [
    "l1pipeline = pe.Workflow(name=\"level1\")\n",
    "l1pipeline.base_dir = opj(project_dir, 'workingdir')\n",
    "\n",
    "l1pipeline.connect([\n",
    "        # === Preprocessing steps ===\n",
    "        (infosource, datasource, [('subject_id', 'subject_id')]),\n",
    "        (datasource,realign,[('func','in_files')]),\n",
    "        (realign,coregister,[('mean_image', 'source'),\n",
    "                           ('realigned_files','apply_to_files')]),\n",
    "        (datasource,coregister,[('struct', 'target')]),\n",
    "        (datasource,normalize,[('struct', 'source')]),\n",
    "        (coregister, normalize, [('coregistered_files','apply_to_files')]),\n",
    "        (normalize, smooth, [('normalized_files', 'in_files')]),\n",
    "        \n",
    "        # === Generating simulated model ===\n",
    "        (infosource, model_gen, [('subject_id', 'subject_id')]),\n",
    "        (model_gen, modelspec, [('model', 'subject_info')]),\n",
    "        (model_gen, contrastestimate, [('contrasts', 'contrasts')]),\n",
    "        \n",
    "        # === Level 1 modeling ===,\n",
    "        (realign,modelspec,[('realignment_parameters','realignment_parameters')]),\n",
    "        (smooth,modelspec,[('smoothed_files','functional_runs')]),\n",
    "        #(normalize,skullstrip,[('normalized_source','in_file')]),\n",
    "        (realign,art,[('realignment_parameters','realignment_parameters')]),\n",
    "        (normalize,art,[('normalized_files','realigned_files')]),\n",
    "        #(normalize,art,[('mask_file','mask_file')]),\n",
    "        (art,modelspec,[('outlier_files','outlier_files')]),\n",
    "        (modelspec,level1design,[('session_info','session_info')]),\n",
    "        (art,level1design,[('mask_files','mask_image')]),\n",
    "        (level1design,level1estimate,[('spm_mat_file','spm_mat_file')]),\n",
    "        (level1estimate,contrastestimate,[('spm_mat_file','spm_mat_file'),\n",
    "                                      ('beta_images','beta_images'),\n",
    "                                      ('residual_image','residual_image')])\n",
    "    ])"
   ]
  },
  {
   "cell_type": "markdown",
   "metadata": {},
   "source": [
    "Finally, the code below sets up our output structure."
   ]
  },
  {
   "cell_type": "code",
   "execution_count": 8,
   "metadata": {
    "collapsed": false
   },
   "outputs": [],
   "source": [
    "datasink = pe.Node(interface=nio.DataSink(), name='datasink')\n",
    "datasink.inputs.base_directory = opj(project_dir, 'l1output')\n",
    "\n",
    "#JSON sink - Save contrast info to JSON file\n",
    "jsonsink = pe.Node(interface = nio.JSONFileSink(input_names = ['contrasts']),\n",
    "                   name = 'jsonsink')\n",
    "\n",
    "# store relevant outputs from various stages of the 1st level analysis\n",
    "l1pipeline.connect([(infosource, datasink,[('subject_id','container')]),\n",
    "#                    (model_gen, jsonsink, [('trial_types', 'trial_types')]),\n",
    " #                   (jsonsink, datasink, [('out_file', 'model.@info')]),\n",
    "                    (realign,datasink,[('mean_image','realign.@mean'),\n",
    "                                       ('realignment_parameters','realign.@param')]),\n",
    "                    (art,datasink,[('outlier_files','art.@outliers'),\n",
    "                                   ('statistic_files','art.@stats')]),\n",
    "                    (level1design,datasink,[('spm_mat_file','model.pre-estimate')]),\n",
    "                    (level1estimate,datasink,[('spm_mat_file','model.@spm'),\n",
    "                                              ('beta_images','model.@beta'),\n",
    "                                              ('mask_image','model.@mask'),\n",
    "                                              ('residual_image','model.@res'),\n",
    "                                              ('RPVimage','model.@rpv')]),\n",
    "                    (contrastestimate,datasink,[('con_images','contrasts.@con'),\n",
    "                                                ('spmT_images','contrasts.@T')]),\n",
    "                    ])"
   ]
  },
  {
   "cell_type": "code",
   "execution_count": null,
   "metadata": {
    "collapsed": false,
    "scrolled": true
   },
   "outputs": [],
   "source": [
    "l1pipeline.run()"
   ]
  },
  {
   "cell_type": "markdown",
   "metadata": {},
   "source": [
    "## Step 5: Run decoding\n",
    "\n",
    "Now that we have preprocessed and modeled our null data, we'll analyze it using multi-voxel pattern analysis ([Norman et al., 2006)](https://www.ncbi.nlm.nih.gov/pmc/articles/PMC3389290/); [Kriegeskorte et al., 2009](http://www.pnas.org/content/103/10/3863.long)). To match the procedure used in Mumford et al. (2014), we'll decode our beta images using a pattern classifier, and measure classification accuracy between 'a' and 'b' trials. Because there are no condition differences to be found, the true classification accuracy is .50; any deviations from chance are spurious.\n",
    "\n",
    "**NB:** For some reason, not all subjects and order types are being transferred to l1output. (The workflow does not crash or otherwise leave error messages to suggest that something is not being executed correctly.) Therefore, the output is incomplete. Until the error is fixed, the code chunk below checks for incomplete directories at several steps."
   ]
  },
  {
   "cell_type": "code",
   "execution_count": 35,
   "metadata": {
    "collapsed": false
   },
   "outputs": [
    {
     "name": "stdout",
     "output_type": "stream",
     "text": [
      "Skipping participant sub08889, order random\n",
      "Skipping participant sub38579, order blocked\n",
      "Skipping participant sub52738, order alternating\n",
      "Skipping participant sub52738, order random\n",
      "Skipping participant sub76987, order random\n",
      "Skipping participant sub86146, order blocked\n"
     ]
    }
   ],
   "source": [
    "processed_subjects = [d for d in os.listdir(opj(project_dir, 'l1output'))]\n",
    "\n",
    "def est_similarity(subj_ids):\n",
    "    cv_scores = {}\n",
    "    order_type = ['blocked', 'alternating', 'random']\n",
    "    \n",
    "    for subj_id in subj_ids:\n",
    "        cv_scores[subj_id] = {}\n",
    "        subj_dir = opj(project_dir, 'l1output', '%s') % subj_id\n",
    "\n",
    "        # Get beta image filenames\n",
    "        model_base = opj(subj_dir, 'model', '_subject_id_%s') % subj_id\n",
    "        model_dir = opj(model_base, os.listdir(model_base)[0])\n",
    "        beta_files = glob.glob(opj(model_dir, 'beta*.img'))\n",
    "        beta_files = beta_files[:68] # Clip regressors of no interest\n",
    "        mask_file = opj(model_dir, 'mask.img')\n",
    "\n",
    "        # Prepare data for cross-validation\n",
    "        masker = NiftiMasker(mask_img = mask_file)\n",
    "        fmri_masked = masker.fit_transform(beta_files)\n",
    "\n",
    "        # Template for contrast info\n",
    "        con_dir = opj(subj_dir, 'contrasts', '_subject_id_%s') % subj_id\n",
    "        con_template = opj(con_dir, '_isi_length_long_n_iter_1_order_%s', 'datasink.json')\n",
    "\n",
    "        for order in order_type:\n",
    "            # Load contrast info\n",
    "            con_fname = con_template % order\n",
    "            \n",
    "            if os.path.isfile(con_fname):\n",
    "                con_f = open(con_fname).read()\n",
    "                con_data = json.loads(con_f)\n",
    "\n",
    "                # Get trial order\n",
    "                trial_order= con_data['contrasts'][0][2]\n",
    "                trial_labels = np.array([t[-1] for t in trial_order])\n",
    "\n",
    "                # Classify using 2-fold cross-validation\n",
    "                svc = SVC(kernel='linear')    \n",
    "                skf = StratifiedKFold(trial_labels, n_folds=2)    \n",
    "                cv_scores[subj_id][order] = np.mean(cross_val_score(svc, fmri_masked,\n",
    "                                                            trial_labels, cv=skf))\n",
    "            \n",
    "            else:\n",
    "                print 'Skipping participant %s, order %s' % (subj_id, order)\n",
    "    \n",
    "    return cv_scores\n",
    "    \n",
    "cv_scores = est_similarity(processed_subjects)"
   ]
  },
  {
   "cell_type": "markdown",
   "metadata": {},
   "source": [
    "## Step 6: Check for bias in MVPA\n",
    "\n",
    "So far, we've preprocessed and modeled our null data, and run MVPA using a linear classifier. In the code chunk below, we finally check the output of our work: what is the average classification 'accuracy' for each trial order? To reiterate, the true classification accuracy should be .50, so any deviation from chance is spurious."
   ]
  },
  {
   "cell_type": "code",
   "execution_count": 62,
   "metadata": {
    "collapsed": false,
    "scrolled": true
   },
   "outputs": [
    {
     "data": {
      "text/plain": [
       "order_type\n",
       "alternating    0.495798\n",
       "blocked        0.516912\n",
       "random         0.497678\n",
       "Name: cv, dtype: float64"
      ]
     },
     "execution_count": 62,
     "metadata": {},
     "output_type": "execute_result"
    },
    {
     "data": {
      "image/png": "[encoded data removed]",
      "text/plain": [
       "<matplotlib.figure.Figure at 0x11c1b8bd0>"
      ]
     },
     "metadata": {},
     "output_type": "display_data"
    }
   ],
   "source": [
    "cv_data = []\n",
    "for subj, orders in cv_scores.iteritems():\n",
    "    for order, cv in orders.iteritems():\n",
    "        cv_data.append([subj, order, cv])\n",
    "\n",
    "cv_df = pd.DataFrame(cv_data, columns = ['subject_id', 'order_type', 'cv'])\n",
    "ax = sns.boxplot(x=\"order_type\", y=\"cv\", data=cv_df)\n",
    "ax = sns.swarmplot(x=\"order_type\", y=\"cv\", data=cv_df, color=\".25\")\n",
    "\n",
    "# Save data frame to file\n",
    "cv_df.to_csv('cross_validation_accuracy.csv')\n",
    "\n",
    "cv_df.pivot_table(values = 'cv', index = 'order_type')"
   ]
  },
  {
   "cell_type": "markdown",
   "metadata": {},
   "source": [
    "**Result:** The 2-fold cross-validation has worked as it should—overall, classification accuracies are not different from chance. However, classification accuracies are more *variable* for block orders than for alternating and random orders.\n",
    "\n",
    "This is promising news: we have obtained valid results within our limited sample. It is important to note that these results are an important pre-requisite for estimating the type-I error rate of our analysis stream; however, given our limited sample size and number of simulations, it should not be interpreted as an estimate of the type-I error rate. In the conclusions below, I'll detail next steps to scale this method to obtain a more precise estimate of the type-I error rate."
   ]
  },
  {
   "cell_type": "markdown",
   "metadata": {},
   "source": [
    "## Conclusion\n",
    "\n",
    "This notebook demonstrates initial steps towards building methods to test and validate analysis pipelines using Nipype. To summarize, the initial goal here was systematically vary aspects of the task design (specified using iterables), and search for false positives in a real, resting state dataset as a function of permutations of these parameters. In future iterations of this work, this basic method can be scaled to obtain an estimate of the false positive rate. In the meantime, two key contributions have been made in this initial version, which set the stage for future iterations of this work. First, the code above makes use of Nipype's unique abstractions to create arbitrary task models for each participant, thus allowing the user to search for false positives as a function of the task design. Second, the code above allows the user to create several 'iterations' of a model per subject for each permutation of parameters.\n",
    "\n",
    "Becauss of limitations on computational resources, the latter feature is underutilized in this current implementation, but is key for obtaining an estimate of the type-I error rate. The goal, in future iterations of this code, is to use this feature to generate many models per subject, which can in turn be pooled over many group analyses, which in turn will provide a more precise estimate of the false positive rate.\n",
    "\n",
    "In the meantime, there are several interesting engineering puzzles to solve in order to scale this method to support larger, iterated simulations. The most obvious consideration is storage: the resting state dataset used here (N = 25) is comparably small, and only a single simulation is run for each permutation of parameters. Therefore, the final results do not provide a precise estimate of the type-I error rate; to do so, we would need to scale our pipeline to run multiple simulations per subject per permutations of parameters, and aggregate over many random group analyses to obtain an estimate of the false positive rate. One way to reduce the demands on storage is to cache useful read-outs (e.g., cross-validation scores for each simulation) while discarding intermediate outputs (e.g., intermediate preprocessing steps, betas, contrast information). Though not shown here, this was a key factor for limiting the number of iterations here to 1—the amount of storage space used by each simulation quickly became unmanageable, even for a small number of simulations.\n",
    "\n",
    "Nipype empowers users to create flexible and complex analysis pipelines using simple and compact syntax. This incredible flexibility also gives users the responsibility to check and validate their analysis methods. The present code provides initial scaffolding to estimate type-I error rates by analyzing 'null' resting-state data, and proposes next steps to scale this procedure for larger simulations."
   ]
  }
 ],
 "metadata": {
  "kernelspec": {
   "display_name": "Python 2",
   "language": "python",
   "name": "python2"
  },
  "language_info": {
   "codemirror_mode": {
    "name": "ipython",
    "version": 2
   },
   "file_extension": ".py",
   "mimetype": "text/x-python",
   "name": "python",
   "nbconvert_exporter": "python",
   "pygments_lexer": "ipython2",
   "version": "2.7.13"
  }
 },
 "nbformat": 4,
 "nbformat_minor": 0
}
